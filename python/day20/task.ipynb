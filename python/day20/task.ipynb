{
 "cells": [
  {
   "cell_type": "code",
   "execution_count": 1,
   "id": "85eeb9ab",
   "metadata": {},
   "outputs": [],
   "source": [
    "import pandas as pd\n",
    "import numpy as np\n",
    "from sklearn import linear_model"
   ]
  },
  {
   "cell_type": "code",
   "execution_count": 9,
   "id": "5e7e0326",
   "metadata": {},
   "outputs": [],
   "source": [
    "def multiple_regression(data):\n",
    "    x_data = data[['Unsafe water source','Unsafe sanitation']]\n",
    "    y_data = data['No access to handwashing facility']\n",
    "    reg_obj = linear_model.LinearRegression()\n",
    "    reg_obj.fit(x_data,y_data)\n",
    "    literacy_predict = reg_obj.predict([[1000,3000]])\n",
    "    return literacy_predict\n",
    "\n",
    "def cov_mr(data):\n",
    "    x_data = data[['Unsafe water source','Unsafe sanitation']]\n",
    "    y_data = data['No access to handwashing facility']\n",
    "    reg_obj = linear_model.LinearRegression()\n",
    "    reg_obj.fit(x_data,y_data)\n",
    "    return reg_obj.coef_"
   ]
  },
  {
   "cell_type": "code",
   "execution_count": 14,
   "id": "cbbf40a1",
   "metadata": {},
   "outputs": [
    {
     "name": "stdout",
     "output_type": "stream",
     "text": [
      "India ----- [0.53941374 0.12691466]\n",
      "Pakistan -- [0.14601608 0.38339417]\n"
     ]
    }
   ],
   "source": [
    "data = pd.read_csv('data_2.csv')\n",
    "ind_data = data[data['Code']=='IND']\n",
    "pak_data = data[data['Code']=='PAK']\n",
    "print(\"India -----\",cov_mr(ind_data))\n",
    "print(\"Pakistan --\",cov_mr(pak_data))"
   ]
  },
  {
   "cell_type": "markdown",
   "id": "b3aacafd",
   "metadata": {},
   "source": [
    "From the regression coefficient it is clearly evident that India's water sources are contributing much to the countries handwashing facility than in Pakistan i.e., one unit downfall in the water source purity leads to 0.53 units decrease in access to handwash. In Pakistan, the sanitation is contributing much to the handwashing facility than in India i.e., one unit downfall in the sanitation facility leads to 0.38 units decrease in access to handwash.\n",
    "\n",
    "The comparisions within the countries provides the clear insight that in India the water sources affect on handwashing facility is much more than the affect of sanitation on handwashing facility. On the other hand in Pakistan, the handwashing facility is degrading due to unhygienic sanitation.\n",
    "\n",
    "Finally, it can be inferred that in order to increase the handwashing facility, the water sources need to be improved in India and sanitation need to be improved in Pakistan."
   ]
  }
 ],
 "metadata": {
  "kernelspec": {
   "display_name": "Python 3",
   "language": "python",
   "name": "python3"
  },
  "language_info": {
   "codemirror_mode": {
    "name": "ipython",
    "version": 3
   },
   "file_extension": ".py",
   "mimetype": "text/x-python",
   "name": "python",
   "nbconvert_exporter": "python",
   "pygments_lexer": "ipython3",
   "version": "3.8.8"
  }
 },
 "nbformat": 4,
 "nbformat_minor": 5
}
