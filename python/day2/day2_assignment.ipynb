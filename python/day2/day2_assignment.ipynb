{
 "cells": [
  {
   "cell_type": "code",
   "execution_count": 14,
   "id": "8a3d3f4a",
   "metadata": {},
   "outputs": [
    {
     "name": "stdout",
     "output_type": "stream",
     "text": [
      "84\n",
      "maxmium =  1234\n",
      "minimum =  4321\n",
      "no common factors\n"
     ]
    }
   ],
   "source": [
    "# PROGRAM : day2 assignment\n",
    "# PROGRAMMED By  : Bhavya Yasaswini Gadu\n",
    "# Email-id : GaduBhavya.Yasaswini@Chubb.com\n",
    "# Date : 17-sep-2021\n",
    "# Python Version : 3.7.3\n",
    "# Caveats : None\n",
    "# License : None\n",
    "\n",
    "'''\n",
    "Write a python program using function. \n",
    "Given two numners 45 and 49 you have add the two numbers without doing any carry forward\n",
    "'''\n",
    "\n",
    "n1=str(45)\n",
    "n2=str(49)\n",
    "l1,l2=len(n1),len(n2)\n",
    "m=min(l1,l2)\n",
    "l=[]\n",
    "for i in range(1,m+1):\n",
    "    x=str(int(n1[-i])+int(n2[-i]))\n",
    "    l.insert(0,x[-1])\n",
    "if(l1>l2):\n",
    "    l=list(n1[:(l1-l2)])+l\n",
    "if(l2>l1):\n",
    "    l=list(n2[:(l2-l1)])+l\n",
    "print(\"\".join(l))\n",
    "\n",
    "\n",
    "'''\n",
    "Given a number 1234 write a python code to find \n",
    "the maximum and minimum number that you can create with it\n",
    "'''\n",
    "\n",
    "n = str(1234)\n",
    "l = list(n)\n",
    "maximum = ''.join(sorted(l))\n",
    "minimum = ''.join(sorted(l,reverse=True))\n",
    "print(\"maxmium = \",maximum)\n",
    "print(\"minimum = \",minimum)\n",
    "\n",
    "\n",
    "'''\n",
    "Write a Python program using function. You have been given an array of numbers [24, 36, 10, 99, 126, 256] \n",
    "find out the common factors in the array of numbers?\n",
    "'''\n",
    "\n",
    "array = [24, 36, 10, 99, 126, 256]\n",
    "factors = []\n",
    "for i in range(2,min(array)+1):\n",
    "    if all([0 for j in array if (j%i!=0)]):\n",
    "        factors.append(i)\n",
    "if(factors == []):\n",
    "    print(\"no common factors\")\n",
    "else:\n",
    "    print(factors)"
   ]
  },
  {
   "cell_type": "code",
   "execution_count": null,
   "id": "de72bad7",
   "metadata": {},
   "outputs": [],
   "source": []
  }
 ],
 "metadata": {
  "kernelspec": {
   "display_name": "Python 3",
   "language": "python",
   "name": "python3"
  },
  "language_info": {
   "codemirror_mode": {
    "name": "ipython",
    "version": 3
   },
   "file_extension": ".py",
   "mimetype": "text/x-python",
   "name": "python",
   "nbconvert_exporter": "python",
   "pygments_lexer": "ipython3",
   "version": "3.8.8"
  }
 },
 "nbformat": 4,
 "nbformat_minor": 5
}
