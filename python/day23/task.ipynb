{
 "cells": [
  {
   "cell_type": "code",
   "execution_count": 14,
   "id": "2c3ce87d",
   "metadata": {},
   "outputs": [],
   "source": [
    "import scipy.stats as stats\n",
    "import pandas as pd\n",
    "from sklearn import preprocessing\n",
    "\n",
    "def chi_square_test(data):\n",
    "    return (stats.chi2_contingency(data))"
   ]
  },
  {
   "cell_type": "code",
   "execution_count": 23,
   "id": "fe4c07b4",
   "metadata": {},
   "outputs": [
    {
     "name": "stdout",
     "output_type": "stream",
     "text": [
      "Bihar----\n",
      "(0.03628574812386675, 1.0, 37, array([[0.82951414, 0.83026401, 0.83492547, 0.83104225, 0.82892507,\n",
      "        0.82696434, 0.8337368 , 0.83951924, 0.83513482, 0.83802114,\n",
      "        0.82948554, 0.82607945, 0.82974323, 0.83886367, 0.84394204,\n",
      "        0.84291566, 0.8378538 , 0.83715329, 0.83538151, 0.83873273,\n",
      "        0.83643764, 0.83781892, 0.83244781, 0.83940705, 0.83605493,\n",
      "        0.83732914, 0.83493492, 0.84074495, 0.83365496, 0.83668919,\n",
      "        0.83735438, 0.83967152, 0.83888522, 0.8379204 , 0.83511528,\n",
      "        0.82867752, 0.83494057, 0.83357679],\n",
      "       [0.54552572, 0.54601886, 0.54908445, 0.54653066, 0.54513831,\n",
      "        0.54384885, 0.54830272, 0.55210551, 0.54922212, 0.5511203 ,\n",
      "        0.54550691, 0.54326691, 0.54567638, 0.55167438, 0.55501415,\n",
      "        0.55433915, 0.55101025, 0.55054956, 0.54938436, 0.55158827,\n",
      "        0.55007892, 0.55098731, 0.54745503, 0.55203173, 0.54982723,\n",
      "        0.55066521, 0.54909066, 0.5529116 , 0.5482489 , 0.55024435,\n",
      "        0.55068181, 0.55220566, 0.55168856, 0.55105405, 0.54920928,\n",
      "        0.54497552, 0.54909438, 0.54819749]]))\n",
      "\n",
      "Karnataka----\n",
      "(0.07772128690155422, 1.0, 29, array([[0.77985184, 0.77754587, 0.77529805, 0.77829325, 0.77428363,\n",
      "        0.77675668, 0.77947038, 0.78306431, 0.78422468, 0.78155724,\n",
      "        0.77841809, 0.78118142, 0.78247465, 0.78463664, 0.78647859,\n",
      "        0.78451056, 0.7818126 , 0.78361755, 0.78168343, 0.78320042,\n",
      "        0.78595109, 0.78576603, 0.78371217, 0.78200398, 0.77652954,\n",
      "        0.77077828, 0.78175629, 0.78001914, 0.78099139, 0.78072318],\n",
      "       [0.62242551, 0.62058504, 0.61879098, 0.62118155, 0.61798134,\n",
      "        0.61995516, 0.62212105, 0.62498949, 0.62591562, 0.62378665,\n",
      "        0.62128119, 0.62348669, 0.62451887, 0.62624442, 0.62771454,\n",
      "        0.62614379, 0.62399046, 0.62543105, 0.62388737, 0.62509812,\n",
      "        0.62729352, 0.62714582, 0.62550657, 0.62414321, 0.61977388,\n",
      "        0.61518361, 0.62394551, 0.62255904, 0.62333502, 0.62312095]]))\n"
     ]
    }
   ],
   "source": [
    "data = pd.read_csv('data_1.csv')\n",
    "d = preprocessing.normalize(data[['Male_Literate','Female_Literate']])\n",
    "d = pd.DataFrame(d, columns=['Male_Literate','Female_Literate'])\n",
    "data[['Male_Literate','Female_Literate']]=d\n",
    "\n",
    "bihar_data = data[data['State name']=='BIHAR']\n",
    "karnataka_data = data[data['State name']=='KARNATAKA']\n",
    "bihar_male = bihar_data['Male_Literate']\n",
    "bihar_female = bihar_data['Female_Literate']\n",
    "karnataka_male = karnataka_data['Male_Literate']\n",
    "karnataka_female = karnataka_data['Female_Literate']\n",
    "\n",
    "print('Bihar----')\n",
    "print(chi_square_test([bihar_male,bihar_female]))\n",
    "print('\\nKarnataka----')\n",
    "print(chi_square_test([karnataka_male,karnataka_female]))"
   ]
  },
  {
   "cell_type": "markdown",
   "id": "628caacf",
   "metadata": {},
   "source": [
    "Null Hypothesis: Male and Female literates are same in the states Bihar and Karnataka.\n",
    "\n",
    "Inference: From the analysis it is observed that the chi square value for Bihar is 0.036 and for Karnataka is 0.077. Both the p-values are 1 which is greater than the alpha values 0.05 and hence the null hypothesis is true. Male and Female literates are same in both the states."
   ]
  }
 ],
 "metadata": {
  "kernelspec": {
   "display_name": "Python 3",
   "language": "python",
   "name": "python3"
  },
  "language_info": {
   "codemirror_mode": {
    "name": "ipython",
    "version": 3
   },
   "file_extension": ".py",
   "mimetype": "text/x-python",
   "name": "python",
   "nbconvert_exporter": "python",
   "pygments_lexer": "ipython3",
   "version": "3.8.8"
  }
 },
 "nbformat": 4,
 "nbformat_minor": 5
}
