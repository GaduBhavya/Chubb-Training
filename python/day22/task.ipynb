{
 "cells": [
  {
   "cell_type": "code",
   "execution_count": 2,
   "id": "3d48cb77",
   "metadata": {},
   "outputs": [],
   "source": [
    "from scipy.stats import f_oneway\n",
    "import pandas as pd\n",
    "\n",
    "def one_way_anova(data1, data2, data3):\n",
    "    return (f_oneway(data1, data2, data3))"
   ]
  },
  {
   "cell_type": "code",
   "execution_count": 3,
   "id": "8d49ab27",
   "metadata": {},
   "outputs": [],
   "source": [
    "data = pd.read_csv('data_2.csv')"
   ]
  },
  {
   "cell_type": "code",
   "execution_count": 4,
   "id": "b9d7bef5",
   "metadata": {},
   "outputs": [
    {
     "name": "stdout",
     "output_type": "stream",
     "text": [
      "F_onewayResult(statistic=244.17186939552772, pvalue=1.862620621563961e-105)\n"
     ]
    }
   ],
   "source": [
    "print(one_way_anova(data['Alcohol use'],data['Drug use'],data['Smoking']))"
   ]
  },
  {
   "cell_type": "markdown",
   "id": "82dc18d2",
   "metadata": {},
   "source": [
    "Hypothesis: Alcohol use, Drug use and Smoking - the 3 different death causes lead to approximately same mean.                   \n",
    "Inference: From the Anova test, it is observed that the p-value is 1.862620621563961e-105 which is very less than the level of significance 0.05. So the hypothesis is false. Hence it can be concluded that there is a difference in deaths caused due to these  causes."
   ]
  }
 ],
 "metadata": {
  "kernelspec": {
   "display_name": "Python 3",
   "language": "python",
   "name": "python3"
  },
  "language_info": {
   "codemirror_mode": {
    "name": "ipython",
    "version": 3
   },
   "file_extension": ".py",
   "mimetype": "text/x-python",
   "name": "python",
   "nbconvert_exporter": "python",
   "pygments_lexer": "ipython3",
   "version": "3.8.8"
  }
 },
 "nbformat": 4,
 "nbformat_minor": 5
}
