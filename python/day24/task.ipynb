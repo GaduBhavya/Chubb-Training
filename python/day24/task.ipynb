{
 "cells": [
  {
   "cell_type": "code",
   "execution_count": 2,
   "id": "a424d035",
   "metadata": {},
   "outputs": [
    {
     "name": "stdout",
     "output_type": "stream",
     "text": [
      "123456789\n",
      "even digits-- [2, 4, 6, 8]\n",
      "odd digits--- [1, 3, 5, 7, 9]\n"
     ]
    }
   ],
   "source": [
    "s=input()\n",
    "even=[]\n",
    "odd=[]\n",
    "for i in s:\n",
    "    if int(i)%2==0:\n",
    "        even.append(int(i))\n",
    "    else:\n",
    "        odd.append(int(i))\n",
    "print(\"even digits--\",even)\n",
    "print(\"odd digits---\",odd)"
   ]
  },
  {
   "cell_type": "code",
   "execution_count": 6,
   "id": "aafb1826",
   "metadata": {},
   "outputs": [
    {
     "name": "stdout",
     "output_type": "stream",
     "text": [
      "25\n",
      "Square root of 25 is 5.0\n"
     ]
    }
   ],
   "source": [
    "n = int(input())\n",
    "print('Square root of {} is {}'.format(n,n**(0.5)))"
   ]
  }
 ],
 "metadata": {
  "kernelspec": {
   "display_name": "Python 3",
   "language": "python",
   "name": "python3"
  },
  "language_info": {
   "codemirror_mode": {
    "name": "ipython",
    "version": 3
   },
   "file_extension": ".py",
   "mimetype": "text/x-python",
   "name": "python",
   "nbconvert_exporter": "python",
   "pygments_lexer": "ipython3",
   "version": "3.8.8"
  }
 },
 "nbformat": 4,
 "nbformat_minor": 5
}
