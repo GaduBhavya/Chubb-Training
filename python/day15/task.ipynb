{
 "cells": [
  {
   "cell_type": "code",
   "execution_count": 18,
   "id": "ffb782b1",
   "metadata": {},
   "outputs": [],
   "source": [
    "import pandas as pd\n",
    "data = pd.read_csv('finance_data.csv')"
   ]
  },
  {
   "cell_type": "code",
   "execution_count": 34,
   "id": "352b1d90",
   "metadata": {},
   "outputs": [],
   "source": [
    "data['month'] = pd.DatetimeIndex(data['Date']).month\n",
    "data['year'] = pd.DatetimeIndex(data['Date']).year"
   ]
  },
  {
   "cell_type": "code",
   "execution_count": 32,
   "id": "2c39ba55",
   "metadata": {},
   "outputs": [
    {
     "name": "stdout",
     "output_type": "stream",
     "text": [
      "In 2020\n",
      "\n",
      "\n",
      "Month 10\n",
      "---------------\n",
      "Coefficient of variance for Opening is 0.029142233981157874\n",
      "Coefficient of variance for Closing is 0.03153360699521016\n",
      "Coefficient of variance percentage is -8.20586718093901\n",
      "\n",
      "Month 11\n",
      "---------------\n",
      "Coefficient of variance for Opening is 0.02467365035095357\n",
      "Coefficient of variance for Closing is 0.02561183331864159\n",
      "Coefficient of variance percentage is -3.802367928310052\n",
      "\n",
      "Month 12\n",
      "---------------\n",
      "Coefficient of variance for Opening is 0.018622229702871515\n",
      "Coefficient of variance for Closing is 0.018011808165630295\n",
      "Coefficient of variance percentage is 3.277918632628048\n",
      "\n",
      "In 2021\n",
      "\n",
      "\n",
      "Month 1\n",
      "---------------\n",
      "Coefficient of variance for Opening is 0.024157882989369564\n",
      "Coefficient of variance for Closing is 0.022435265838144283\n",
      "Coefficient of variance percentage is 7.130662699141734\n",
      "\n",
      "Month 2\n",
      "---------------\n",
      "Coefficient of variance for Opening is 0.027212840911815757\n",
      "Coefficient of variance for Closing is 0.027137536556025705\n",
      "Coefficient of variance percentage is 0.27672361012978597\n",
      "\n",
      "Month 3\n",
      "---------------\n",
      "Coefficient of variance for Opening is 0.013575724458303275\n",
      "Coefficient of variance for Closing is 0.01634195230478857\n",
      "Coefficient of variance percentage is -20.37628161194297\n",
      "\n",
      "Month 4\n",
      "---------------\n",
      "Coefficient of variance for Opening is 0.02989996874922977\n",
      "Coefficient of variance for Closing is 0.02429553768246621\n",
      "Coefficient of variance percentage is 18.743936201966534\n",
      "\n",
      "Month 5\n",
      "---------------\n",
      "Coefficient of variance for Opening is 0.023379809285488964\n",
      "Coefficient of variance for Closing is 0.01652003469735764\n",
      "Coefficient of variance percentage is 29.340592578695446\n",
      "\n",
      "Month 6\n",
      "---------------\n",
      "Coefficient of variance for Opening is 0.032366316584909016\n",
      "Coefficient of variance for Closing is 0.03230548964108233\n",
      "Coefficient of variance percentage is 0.18793285812153346\n",
      "\n",
      "Month 7\n",
      "---------------\n",
      "Coefficient of variance for Opening is 0.029226076441954865\n",
      "Coefficient of variance for Closing is 0.02760760981909818\n",
      "Coefficient of variance percentage is 5.5377485447664485\n",
      "\n",
      "Month 8\n",
      "---------------\n",
      "Coefficient of variance for Opening is 0.01804247313326175\n",
      "Coefficient of variance for Closing is 0.020661332802447523\n",
      "Coefficient of variance percentage is -14.514970591020813\n",
      "\n",
      "Month 9\n",
      "---------------\n",
      "Coefficient of variance for Opening is 0.01939368672318672\n",
      "Coefficient of variance for Closing is 0.020642485723868356\n",
      "Coefficient of variance percentage is -6.439203739372551\n",
      "\n",
      "Month 10\n",
      "---------------\n",
      "Coefficient of variance for Opening is 0.014202184765392685\n",
      "Coefficient of variance for Closing is 0.014442276878863706\n",
      "Coefficient of variance percentage is -1.6905294321762971\n"
     ]
    }
   ],
   "source": [
    "def covariance(data,column,mon,year):\n",
    "    return data[(data['month']==mon) & (data['year']==year)][column].std()/data[(data['month']==mon) & (data['year']==year)][column].mean()\n",
    "\n",
    "\n",
    "print('In 2020\\n')\n",
    "for i in [10,11,12]:\n",
    "    open_cov = covariance(data,'Open',i,2020)\n",
    "    close_cov = covariance(data,'Close',i,2020)\n",
    "    print(\"\\nMonth {}\\n---------------\".format(i))\n",
    "    print(\"Coefficient of variance for Opening is\",open_cov)\n",
    "    print(\"Coefficient of variance for Closing is\",close_cov)\n",
    "    print(\"Coefficient of variance percentage is\",(open_cov-close_cov)/open_cov*100)\n",
    "\n",
    "print('\\nIn 2021\\n')\n",
    "for i in range(1,11):\n",
    "    open_cov = covariance(data,'Open',i,2021)\n",
    "    close_cov = covariance(data,'Close',i,2021)\n",
    "    print(\"\\nMonth {}\\n---------------\".format(i))\n",
    "    print(\"Coefficient of variance for Opening is\",open_cov)\n",
    "    print(\"Coefficient of variance for Closing is\",close_cov)\n",
    "    print(\"Coefficient of variance percentage is\",(open_cov-close_cov)/open_cov*100)"
   ]
  },
  {
   "cell_type": "markdown",
   "id": "ecc23c39",
   "metadata": {},
   "source": [
    "From the above data of stocks it is observed that in 2020 only in December the stock has closed with a positive rate with the difference 3.27%, on the other two months the stock performed badly. In 2021, the months of March and May has observed huge loss with -20.37% and -14.51% respectively and the months April and May has observed huge profits with 18.74% and 29.34% respectively."
   ]
  },
  {
   "cell_type": "code",
   "execution_count": null,
   "id": "41b92677",
   "metadata": {},
   "outputs": [],
   "source": []
  }
 ],
 "metadata": {
  "kernelspec": {
   "display_name": "Python 3",
   "language": "python",
   "name": "python3"
  },
  "language_info": {
   "codemirror_mode": {
    "name": "ipython",
    "version": 3
   },
   "file_extension": ".py",
   "mimetype": "text/x-python",
   "name": "python",
   "nbconvert_exporter": "python",
   "pygments_lexer": "ipython3",
   "version": "3.8.8"
  }
 },
 "nbformat": 4,
 "nbformat_minor": 5
}
