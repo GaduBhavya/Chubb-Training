{
 "cells": [
  {
   "cell_type": "code",
   "execution_count": 1,
   "id": "8985b19e",
   "metadata": {},
   "outputs": [],
   "source": [
    "import pandas as pd"
   ]
  },
  {
   "cell_type": "code",
   "execution_count": 72,
   "id": "aaa11173",
   "metadata": {},
   "outputs": [],
   "source": [
    "df = pd.read_csv(\"country_vaccination.csv\")"
   ]
  },
  {
   "cell_type": "code",
   "execution_count": 19,
   "id": "2deb8d54",
   "metadata": {},
   "outputs": [],
   "source": [
    "usa_data = df[df['country']=='United States'][['date','people_vaccinated']]\n",
    "india_data = df[df['country']=='India'][['date','people_vaccinated']]"
   ]
  },
  {
   "cell_type": "code",
   "execution_count": 69,
   "id": "7b9e4c2d",
   "metadata": {},
   "outputs": [],
   "source": [
    "india_data['date'] = pd.to_datetime(india_data['date'])\n",
    "usa_data['date'] = pd.to_datetime(usa_data['date'])"
   ]
  },
  {
   "cell_type": "code",
   "execution_count": 64,
   "id": "ae060ea9",
   "metadata": {},
   "outputs": [],
   "source": [
    "india_dic={\"jan\":0,\"feb\":0}\n",
    "india_dic[\"jan\"] = india_data[pd.DatetimeIndex(india_data['date']).month==1]['people_vaccinated'].sum(0)\n",
    "india_dic[\"feb\"] = india_data[pd.DatetimeIndex(india_data['date']).month==2]['people_vaccinated'].sum(0)"
   ]
  },
  {
   "cell_type": "code",
   "execution_count": 67,
   "id": "91aff4b8",
   "metadata": {},
   "outputs": [],
   "source": [
    "usa_dic={\"jan\":0,\"feb\":0}\n",
    "usa_dic[\"jan\"] = usa_data[pd.DatetimeIndex(usa_data['date']).month==1]['people_vaccinated'].sum(0)\n",
    "usa_dic[\"feb\"] = usa_data[pd.DatetimeIndex(usa_data['date']).month==2]['people_vaccinated'].sum(0)"
   ]
  },
  {
   "cell_type": "code",
   "execution_count": 71,
   "id": "157bf54f",
   "metadata": {},
   "outputs": [
    {
     "name": "stdout",
     "output_type": "stream",
     "text": [
      "USA is 91.11737603921601% more in vaccine administration than India in January\n",
      "USA is 79.19242639373012% more in vaccine administration than India in February\n"
     ]
    }
   ],
   "source": [
    "if usa_dic[\"jan\"]>india_dic[\"jan\"]:\n",
    "    print(\"USA is {}% more in vaccine administration than India in January\".format(((usa_dic[\"jan\"]-india_dic[\"jan\"])/usa_dic[\"jan\"]*100)))\n",
    "else:\n",
    "    print(\"India is {}% more in vaccine administration than USA in January\".format(((india_dic[\"jan\"]-usa_dic[\"jan\"])/india_dic[\"jan\"]*100)))\n",
    "    \n",
    "if usa_dic[\"feb\"]>india_dic[\"feb\"]:\n",
    "    print(\"USA is {}% more in vaccine administration than India in February\".format(((usa_dic[\"feb\"]-india_dic[\"feb\"])/usa_dic[\"feb\"]*100)))\n",
    "else:\n",
    "    print(\"India is {}% more in vaccine administration than USA in February\".format(((india_dic[\"feb\"]-usa_dic[\"feb\"])/india_dic[\"feb\"]*100)))"
   ]
  },
  {
   "cell_type": "code",
   "execution_count": null,
   "id": "9632d58a",
   "metadata": {},
   "outputs": [],
   "source": []
  }
 ],
 "metadata": {
  "kernelspec": {
   "display_name": "Python 3",
   "language": "python",
   "name": "python3"
  },
  "language_info": {
   "codemirror_mode": {
    "name": "ipython",
    "version": 3
   },
   "file_extension": ".py",
   "mimetype": "text/x-python",
   "name": "python",
   "nbconvert_exporter": "python",
   "pygments_lexer": "ipython3",
   "version": "3.8.8"
  }
 },
 "nbformat": 4,
 "nbformat_minor": 5
}
