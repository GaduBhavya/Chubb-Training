{
 "cells": [
  {
   "cell_type": "code",
   "execution_count": 1,
   "id": "ff05ae53",
   "metadata": {},
   "outputs": [],
   "source": [
    "import pandas as pd\n",
    "import numpy as np\n",
    "import scipy.stats as stats"
   ]
  },
  {
   "cell_type": "code",
   "execution_count": 6,
   "id": "f3f9ec4b",
   "metadata": {},
   "outputs": [],
   "source": [
    "def one_sample_t_test(data,assumed_mean):\n",
    "    return stats.ttest_1samp(a=data,popmean=assumed_mean)\n",
    "\n",
    "def two_sample_t_test(data1,data2):\n",
    "    result = stats.ttest_ind(a=data1,b=data2,equal_var=True)\n",
    "    return result"
   ]
  },
  {
   "cell_type": "code",
   "execution_count": 20,
   "id": "0904fde1",
   "metadata": {},
   "outputs": [],
   "source": [
    "data = pd.read_csv('data_1.csv')"
   ]
  },
  {
   "cell_type": "code",
   "execution_count": 24,
   "id": "fcbf21f5",
   "metadata": {},
   "outputs": [
    {
     "name": "stdout",
     "output_type": "stream",
     "text": [
      "Ttest_1sampResult(statistic=0.13908506369155546, pvalue=0.8902545833414418)\n"
     ]
    }
   ],
   "source": [
    "raj_data = data[data['State name']=='RAJASTHAN']\n",
    "ass_pop_mean = 2050000\n",
    "print(one_sample_t_test(raj_data['Population'],ass_pop_mean))"
   ]
  },
  {
   "cell_type": "markdown",
   "id": "72b74f90",
   "metadata": {},
   "source": [
    "One Sample T-test on Rajasthan Population:\n",
    "\n",
    "Hypothesis: The mean of Rajasthan's population is 2050000                                                                       \n",
    "Inference: From the test, it is observed that the p-value is 0.89 which is greater than the alpha value 0.05. So the hypothesis            is condidered to be true i.e., the average of the state's population is around 2050000"
   ]
  },
  {
   "cell_type": "code",
   "execution_count": 62,
   "id": "34af6b17",
   "metadata": {},
   "outputs": [
    {
     "name": "stdout",
     "output_type": "stream",
     "text": [
      "Ttest_indResult(statistic=7.3682922866177005, pvalue=1.1523122250650383e-09)\n"
     ]
    }
   ],
   "source": [
    "and_data = data[data['State name']=='ANDHRA PRADESH']\n",
    "tam_data = data[data['State name']=='TAMIL NADU']\n",
    "print(two_sample_t_test(and_data['Agricultural_Workers'],tam_data['Agricultural_Workers']))"
   ]
  },
  {
   "cell_type": "markdown",
   "id": "d5376943",
   "metadata": {},
   "source": [
    "Two Sample T-test for comparing Andhra Pradesh and Tamil Nadu Agriculture Workers:\n",
    "\n",
    "Hypothesis: The no. of agriculture workers in Andhra Pradesh and Tamil Nadu are nearly equal.                                   \n",
    "Inference: Fom the test, it is observed that the p-value is 1.1523122250650383e-09 i.e., it is equal to 1.15 × 10^-9 which is very less than the threshold 0.05. So the hypothesis is not true. And the positive test statistic 7.36 indicates that Andhra Pradesh has more agriculture workers than Tamil Nadu. "
   ]
  },
  {
   "cell_type": "code",
   "execution_count": 60,
   "id": "e8234382",
   "metadata": {},
   "outputs": [
    {
     "name": "stdout",
     "output_type": "stream",
     "text": [
      "Ttest_indResult(statistic=-2.125151040532665, pvalue=0.0379211137725814)\n"
     ]
    }
   ],
   "source": [
    "guj_data = data[data['State name']=='GUJARAT']\n",
    "raj_data = data[data['State name']=='RAJASTHAN']\n",
    "print(two_sample_t_test(raj_data['Households_with_Television'],guj_data['Households_with_Television']))"
   ]
  },
  {
   "cell_type": "markdown",
   "id": "979ca438",
   "metadata": {},
   "source": [
    "Two Sample T-test for comparing Households with TV's in Gujarath and Rajasthan:\n",
    "\n",
    "Hypothesis: Gujarat and Rajasthan have almost same no. of households with Televisions.                                   \n",
    "Inference: Fom the test, it is observed that the p-value is 0.03 and hence the hypothesis taken is false. And the negative test statistic -2.12 indicates that Gujarath has less households with TV's than Rajasthan. "
   ]
  },
  {
   "cell_type": "code",
   "execution_count": 63,
   "id": "3b16e5a1",
   "metadata": {},
   "outputs": [
    {
     "name": "stdout",
     "output_type": "stream",
     "text": [
      "Ttest_indResult(statistic=-0.02493617681681884, pvalue=0.9804578201402745)\n"
     ]
    }
   ],
   "source": [
    "man_data = data[data['State name']=='MANIPUR']\n",
    "meg_data = data[data['State name']=='MEGHALAYA']\n",
    "print(two_sample_t_test(man_data['Urban_Households'],meg_data['Urban_Households']))"
   ]
  },
  {
   "cell_type": "markdown",
   "id": "8728ecef",
   "metadata": {},
   "source": [
    "Two Sample T-test for comparing Urban Households in Manipur and Meghalaya:\n",
    "\n",
    "Hypothesis: Urban houses are nearly same in Manipur and Meghalaya.                                   \n",
    "Inference: Fom the test, it is observed that the p-value is 0.98 and hence the hypothesis is considered to be true strongly i.e., Manipur and Meghalaya have nearly same number of urban households. "
   ]
  }
 ],
 "metadata": {
  "kernelspec": {
   "display_name": "Python 3",
   "language": "python",
   "name": "python3"
  },
  "language_info": {
   "codemirror_mode": {
    "name": "ipython",
    "version": 3
   },
   "file_extension": ".py",
   "mimetype": "text/x-python",
   "name": "python",
   "nbconvert_exporter": "python",
   "pygments_lexer": "ipython3",
   "version": "3.8.8"
  }
 },
 "nbformat": 4,
 "nbformat_minor": 5
}
