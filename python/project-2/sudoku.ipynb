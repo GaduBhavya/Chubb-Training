{
 "cells": [
  {
   "cell_type": "code",
   "execution_count": 1,
   "id": "89b9575f",
   "metadata": {},
   "outputs": [],
   "source": [
    "# PROGRAM : week2 project\n",
    "# PROGRAMMED By  : Bhavya Yasaswini Gadu\n",
    "# Email-id : GaduBhavya.Yasaswini@Chubb.com\n",
    "# Date : 7-oct-2021\n",
    "# Python Version : 3.7.3\n",
    "# Caveats : None\n",
    "# License : None\n",
    "\n",
    "import numpy as np"
   ]
  },
  {
   "cell_type": "code",
   "execution_count": 29,
   "id": "f4cd7cde",
   "metadata": {},
   "outputs": [],
   "source": [
    "def solve(grid,row,col,num,dim):\n",
    "    if any(1 for i in range(dim) if grid[row][i]==num):\n",
    "        return False\n",
    "    if any(1 for i in range(dim) if grid[i][col]==num):\n",
    "        return False\n",
    "    row1 = row-(row%3)\n",
    "    col1 = col-(col%3)\n",
    "    if any(1 for i in range(row1,row1+3) for j in range(col1,col1+3) if grid[i][j]==num):\n",
    "        return False\n",
    "    return True"
   ]
  },
  {
   "cell_type": "code",
   "execution_count": 31,
   "id": "acff8538",
   "metadata": {},
   "outputs": [],
   "source": [
    "def sudoku(grid,row,col,dim):\n",
    "    if row==dim-1 and col==dim:\n",
    "        return True\n",
    "    if col==dim:\n",
    "        row+=1\n",
    "        col=0\n",
    "    if grid[row][col]!=0:\n",
    "        return sudoku(grid,row,col+1,dim)\n",
    "    for i in range(1,dim+1):\n",
    "        if solve(grid,row,col,i,dim):\n",
    "            grid[row][col] = i\n",
    "            if sudoku(grid,row,col+1,dim):\n",
    "                return True\n",
    "        grid[row][col] = 0\n",
    "    return False"
   ]
  },
  {
   "cell_type": "code",
   "execution_count": null,
   "id": "570bd33a",
   "metadata": {},
   "outputs": [],
   "source": [
    "dim = 9\n",
    "grid=[]\n",
    "for i in range(9):\n",
    "    grid.append(list(map(int,input().split())))\n",
    "grid = np.array(grid)\n",
    "sudoku(grid,0,0,dim)\n",
    "for i in range(dim):\n",
    "    for j in range(dim):\n",
    "        print(grid[i][j],end=\" \")\n",
    "    print(\"\\n\")"
   ]
  }
 ],
 "metadata": {
  "kernelspec": {
   "display_name": "Python 3",
   "language": "python",
   "name": "python3"
  },
  "language_info": {
   "codemirror_mode": {
    "name": "ipython",
    "version": 3
   },
   "file_extension": ".py",
   "mimetype": "text/x-python",
   "name": "python",
   "nbconvert_exporter": "python",
   "pygments_lexer": "ipython3",
   "version": "3.8.8"
  }
 },
 "nbformat": 4,
 "nbformat_minor": 5
}
