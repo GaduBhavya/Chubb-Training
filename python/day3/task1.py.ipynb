{
 "cells": [
  {
   "cell_type": "code",
   "execution_count": 10,
   "id": "6b18f0a3",
   "metadata": {},
   "outputs": [
    {
     "name": "stdout",
     "output_type": "stream",
     "text": [
      "weight : {'imperial': '50 - 60', 'metric': '23 - 27'}\n",
      "height : {'imperial': '25 - 27', 'metric': '64 - 69'}\n",
      "id : 2\n",
      "name : Afghan Hound\n",
      "country_code : AG\n",
      "bred_for : Coursing and hunting\n",
      "breed_group : Hound\n",
      "life_span : 10 - 13 years\n",
      "temperament : Aloof, Clownish, Dignified, Independent, Happy\n",
      "origin : Afghanistan, Iran, Pakistan\n",
      "reference_image_id : hMyT4CDXR\n",
      "image : {'id': 'hMyT4CDXR', 'width': 606, 'height': 380, 'url': 'https://cdn2.thedogapi.com/images/hMyT4CDXR.jpg'}\n"
     ]
    }
   ],
   "source": [
    "# PROGRAM : day3 task1\n",
    "# PROGRAMMED By  : Bhavya Yasaswini Gadu\n",
    "# Email-id : GaduBhavya.Yasaswini@Chubb.com\n",
    "# Date : 20-sep-2021\n",
    "# Python Version : 3.7.3\n",
    "# Caveats : None\n",
    "# License : None\n",
    "\n",
    "import requests\n",
    "import json\n",
    "\n",
    "url=\"https://api.thedogapi.com/v1/breeds\"\n",
    "\n",
    "class Json:\n",
    "    def check_url(self,url):\n",
    "        try:\n",
    "            url = requests.get(url)\n",
    "            return True\n",
    "        except:\n",
    "            return False\n",
    "\n",
    "\n",
    "    def read_url(self,url):\n",
    "        url = requests.get(url)\n",
    "        return url.json()\n",
    "\n",
    "if __name__ == '__main__':\n",
    "    j = Json()\n",
    "    if j.check_url(url):\n",
    "        data = j.read_url(url)\n",
    "        for i in data:\n",
    "            if i['name'] == 'Afghan Hound':\n",
    "                for j in i:\n",
    "                    print(j,\":\",i[j])"
   ]
  },
  {
   "cell_type": "code",
   "execution_count": null,
   "id": "9fa7ff00",
   "metadata": {},
   "outputs": [],
   "source": []
  }
 ],
 "metadata": {
  "kernelspec": {
   "display_name": "Python 3",
   "language": "python",
   "name": "python3"
  },
  "language_info": {
   "codemirror_mode": {
    "name": "ipython",
    "version": 3
   },
   "file_extension": ".py",
   "mimetype": "text/x-python",
   "name": "python",
   "nbconvert_exporter": "python",
   "pygments_lexer": "ipython3",
   "version": "3.8.8"
  }
 },
 "nbformat": 4,
 "nbformat_minor": 5
}
